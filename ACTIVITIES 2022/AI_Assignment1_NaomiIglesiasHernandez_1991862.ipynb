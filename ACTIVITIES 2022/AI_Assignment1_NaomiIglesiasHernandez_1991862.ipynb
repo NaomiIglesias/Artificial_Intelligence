{
  "cells": [
    {
      "cell_type": "code",
      "source": [
        "print (\"ARTIFICIAL INTELLIGENCE\") \n",
        "print (\"Name:Naomi Iglesias Hernández   Student Number:1991862   Hour:MaN4\")"
      ],
      "metadata": {
        "colab": {
          "base_uri": "https://localhost:8080/"
        },
        "id": "r8qpquJPWbV4",
        "outputId": "29d3dad9-c00f-4fcf-843a-86460824daa9"
      },
      "execution_count": 4,
      "outputs": [
        {
          "output_type": "stream",
          "name": "stdout",
          "text": [
            "ARTIFICIAL INTELLIGENCE\n",
            "Name:Naomi Iglesias Hernández   Student Number:1991862   Hour:MaN4\n"
          ]
        }
      ]
    },
    {
      "cell_type": "code",
      "source": [
        "print (\"EXERCISE 1\")"
      ],
      "metadata": {
        "colab": {
          "base_uri": "https://localhost:8080/"
        },
        "id": "sgAL92BdaCsM",
        "outputId": "a237dc26-d14e-404c-f674-86f9609da217"
      },
      "execution_count": 5,
      "outputs": [
        {
          "output_type": "stream",
          "name": "stdout",
          "text": [
            "EXERCISE 1\n"
          ]
        }
      ]
    },
    {
      "cell_type": "code",
      "source": [
        "Name =input(\"What's your Name?:   \")\n",
        "\n",
        "a= \"Ana\"\n",
        "b= \"Peter\"\n",
        "c= \"John\"\n",
        "\n",
        "if Name ==a or Name ==b or Name==c:\n",
        "  print(\"ERROR\")\n",
        "else:\n",
        " print(\"hello\",Name, \",Welcome!\")\n",
        "\n"
      ],
      "metadata": {
        "colab": {
          "base_uri": "https://localhost:8080/"
        },
        "id": "ihxpGRV4bgu5",
        "outputId": "1a9774af-86e5-47fc-decb-42d7da5018bc"
      },
      "execution_count": 146,
      "outputs": [
        {
          "output_type": "stream",
          "name": "stdout",
          "text": [
            "What's your Name?:   Peter\n",
            "ERROR\n"
          ]
        }
      ]
    },
    {
      "cell_type": "code",
      "source": [
        "print (\"EXERCISE 2\")"
      ],
      "metadata": {
        "colab": {
          "base_uri": "https://localhost:8080/"
        },
        "id": "WPfa0VAV-CVG",
        "outputId": "a57d303b-7960-4eca-95b8-d0b84317f52c"
      },
      "execution_count": 147,
      "outputs": [
        {
          "output_type": "stream",
          "name": "stdout",
          "text": [
            "EXERCISE 2\n"
          ]
        }
      ]
    },
    {
      "cell_type": "code",
      "source": [
        "List=[4,3,8,6,2,9,4,2,7,8]\n",
        "Last_element= List[-1]\n",
        "print(\"Last element:  \",Last_element)\n",
        "\n",
        "print()\n",
        "List.reverse()\n",
        "print(\"Reverted List: \",List)"
      ],
      "metadata": {
        "colab": {
          "base_uri": "https://localhost:8080/"
        },
        "id": "CDibJUxjLsC8",
        "outputId": "823ca2de-a765-4879-b647-6c354f795985"
      },
      "execution_count": 160,
      "outputs": [
        {
          "output_type": "stream",
          "name": "stdout",
          "text": [
            "Last element:   8\n",
            "\n",
            "Reverted List:  [8, 7, 2, 4, 9, 2, 6, 8, 3, 4]\n"
          ]
        }
      ]
    },
    {
      "cell_type": "code",
      "source": [
        "print (\"EXERCISE 3\")"
      ],
      "metadata": {
        "id": "1mmGnxOEWxV5"
      },
      "execution_count": null,
      "outputs": []
    },
    {
      "cell_type": "code",
      "source": [
        "def print_frame(*words):\n",
        "  size=max(len(word)for word in words)\n",
        "  print('*'*(size+ 2))\n",
        "  for word in words:\n",
        "    print('*{:<{}}*'.format(word,size))\n",
        "  print('*'*(size+2))\n",
        "print_frame(\" Hello \", \" my \", \" name \",\" is \", \" Naomi \", \" Iglesias \")"
      ],
      "metadata": {
        "colab": {
          "base_uri": "https://localhost:8080/"
        },
        "id": "TxXcMM27qeKD",
        "outputId": "83ae1780-0f02-40e6-bbb7-c33b9807246d"
      },
      "execution_count": 170,
      "outputs": [
        {
          "output_type": "stream",
          "name": "stdout",
          "text": [
            "************\n",
            "* Hello    *\n",
            "* my       *\n",
            "* name     *\n",
            "* is       *\n",
            "* Naomi    *\n",
            "* Iglesias *\n",
            "************\n"
          ]
        }
      ]
    }
  ],
  "metadata": {
    "colab": {
      "collapsed_sections": [],
      "provenance": []
    },
    "kernelspec": {
      "display_name": "Python 3",
      "name": "python3"
    }
  },
  "nbformat": 4,
  "nbformat_minor": 0
}